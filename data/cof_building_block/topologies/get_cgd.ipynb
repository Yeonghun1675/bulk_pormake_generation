{
 "cells": [
  {
   "cell_type": "code",
   "execution_count": 17,
   "id": "729e135b-9bd5-4ce1-b5c0-e1b4dce7a1b4",
   "metadata": {},
   "outputs": [],
   "source": [
    "from pathlib import Path\n",
    "import re"
   ]
  },
  {
   "cell_type": "code",
   "execution_count": null,
   "id": "51d32a8f-d90a-4630-bd97-949e1081358c",
   "metadata": {},
   "outputs": [],
   "source": []
  },
  {
   "cell_type": "code",
   "execution_count": 22,
   "id": "8d0ce4c8-8a28-4334-bb3f-bb9a5534013c",
   "metadata": {},
   "outputs": [],
   "source": [
    "with open('RCSRnets-2019-06-01.cgd') as f:\n",
    "    info = []\n",
    "    name = None\n",
    "    \n",
    "    for line in f:\n",
    "        if line == '\\n':\n",
    "            continue\n",
    "        elif line.startswith('CRYSTAL'):\n",
    "            if len(info)>2:\n",
    "                print (info)\n",
    "                raise ValueError()\n",
    "        elif re.search(f'name|Name|NAME', line):\n",
    "            name = line.strip().split()[-1]\n",
    "            \n",
    "        info.append(line)\n",
    "        \n",
    "        if re.search(f'(end|End|END)$', line.strip()):\n",
    "            if name is None:\n",
    "                print (name, info)\n",
    "                raise ValueError()\n",
    "                \n",
    "            with open(f'./topo/{name}.cgd', 'w') as g:\n",
    "                for i in info:\n",
    "                    g.write(i)\n",
    "                    \n",
    "            info = []\n",
    "            name = None\n",
    "            continue\n",
    "        "
   ]
  },
  {
   "cell_type": "code",
   "execution_count": null,
   "id": "1b55d0d3-98e6-49dd-88d9-af664c674a27",
   "metadata": {},
   "outputs": [],
   "source": []
  }
 ],
 "metadata": {
  "kernelspec": {
   "display_name": "Python 3 (ipykernel)",
   "language": "python",
   "name": "python3"
  },
  "language_info": {
   "codemirror_mode": {
    "name": "ipython",
    "version": 3
   },
   "file_extension": ".py",
   "mimetype": "text/x-python",
   "name": "python",
   "nbconvert_exporter": "python",
   "pygments_lexer": "ipython3",
   "version": "3.9.15"
  }
 },
 "nbformat": 4,
 "nbformat_minor": 5
}
